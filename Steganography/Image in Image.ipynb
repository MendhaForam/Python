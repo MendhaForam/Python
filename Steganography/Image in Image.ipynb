{
 "cells": [
  {
   "cell_type": "code",
   "execution_count": 7,
   "metadata": {
    "colab": {
     "base_uri": "https://localhost:8080/",
     "height": 348
    },
    "id": "t6IQTw7q4bfv",
    "outputId": "4d26e068-d9c5-4903-971a-a04da3b2fc79"
   },
   "outputs": [
    {
     "name": "stdout",
     "output_type": "stream",
     "text": [
      "Done Successfully!!! \n"
     ]
    }
   ],
   "source": [
    "# Python program to demonstrate image steganography using OpenCV\n",
    "\n",
    "import cv2\n",
    "import numpy as np\n",
    "import random\n",
    "\n",
    "# Encryption function\n",
    "def encrypt():\n",
    "\t\n",
    "\t# img1 and img2 are the two input images\n",
    "\timg1 = cv2.imread('img1.jpg')\n",
    "\timg2 = cv2.imread('img2.jpg')\n",
    "\tfor i in range(img2.shape[0]):\n",
    "\t\tfor j in range(img2.shape[1]):\n",
    "\t\t\tfor l in range(3):\n",
    "\t\t\t\t\n",
    "\t\t\t\t# v1 and v2 are 8-bit pixel values of img1 and img2 respectively\n",
    "\t\t\t\tv1 = format(img1[i][j][l], '08b')\n",
    "\t\t\t\tv2 = format(img2[i][j][l], '08b')\n",
    "\t\t\t\t\n",
    "\t\t\t\t# Taking 4 MSBs of each image\n",
    "\t\t\t\tv3 = v1[:4] + v2[:4]\n",
    "\t\t\t\t\n",
    "\t\t\t\timg1[i][j][l]= int(v3, 2)\n",
    "\t\t\t\t\n",
    "\tcv2.imwrite('pic2in1.png', img1)\n",
    "\n",
    "\t\n",
    "# Decryption function\n",
    "def decrypt():\n",
    "\t\n",
    "\t# Encrypted image\n",
    "\timg = cv2.imread('pic2in1.png')\n",
    "\twidth = img.shape[0]\n",
    "\theight = img.shape[1]\n",
    "\t\n",
    "\t# img1 and img2 are two blank images\n",
    "\timg1 = np.zeros((width, height, 3), np.uint8)\n",
    "\timg2 = np.zeros((width, height, 3), np.uint8)\n",
    "\t\n",
    "\tfor i in range(width):\n",
    "\t\tfor j in range(height):\n",
    "\t\t\tfor l in range(3):\n",
    "\t\t\t\tv1 = format(img[i][j][l], '08b')\n",
    "\t\t\t\tv2 = v1[:4] + chr(random.randint(0, 1)+48) * 4\n",
    "\t\t\t\tv3 = v1[4:] + chr(random.randint(0, 1)+48) * 4\n",
    "\t\t\t\t\n",
    "\t\t\t\t# Appending data to img1 and img2\n",
    "\t\t\t\timg1[i][j][l]= int(v2, 2)\n",
    "\t\t\t\timg2[i][j][l]= int(v3, 2)\n",
    "\t\n",
    "\t# These are two images produced from\n",
    "\t# the encrypted image\n",
    "\tcv2.imwrite('pic2_re.png', img1)\n",
    "\tcv2.imwrite('pic3_re.png', img2)\n",
    "\t\n",
    "\n",
    "# Function Calling\n",
    "encrypt()\n",
    "decrypt()\n",
    "print(\"Done Successfully!!! \")"
   ]
  }
 ],
 "metadata": {
  "colab": {
   "provenance": []
  },
  "kernelspec": {
   "display_name": "Python 3 (ipykernel)",
   "language": "python",
   "name": "python3"
  },
  "language_info": {
   "codemirror_mode": {
    "name": "ipython",
    "version": 3
   },
   "file_extension": ".py",
   "mimetype": "text/x-python",
   "name": "python",
   "nbconvert_exporter": "python",
   "pygments_lexer": "ipython3",
   "version": "3.12.0"
  }
 },
 "nbformat": 4,
 "nbformat_minor": 4
}
