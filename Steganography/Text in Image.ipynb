{
 "cells": [
  {
   "cell_type": "code",
   "execution_count": 5,
   "metadata": {
    "id": "CXzw1BJ-UwF9"
   },
   "outputs": [],
   "source": [
    "# Python program to demonstrate image steganography using OpenCV\n",
    "\n",
    "import cv2\n",
    "import numpy as np\n",
    "\n",
    "def to_bin(data):\n",
    "    \n",
    "    # Convert `data` to binary format as string\n",
    "    # isinstance(data,datatype) return true only when data is provided in specified datatype only\n",
    "    # uint8 an 8-bit unsigned integer whose values exist on interval (0,+255) \n",
    "    \n",
    "    if isinstance(data, str):\n",
    "        return ''.join([ format(ord(i), \"08b\") for i in data ])\n",
    "    elif isinstance(data, bytes):\n",
    "        return ''.join([ format(i, \"08b\") for i in data ])\n",
    "    elif isinstance(data, np.ndarray):\n",
    "        return [ format(i, \"08b\") for i in data ]\n",
    "    elif isinstance(data, int) or isinstance(data, np.uint8):\n",
    "        return format(data, \"08b\")\n",
    "    else:\n",
    "        raise TypeError(\"Type not supported.\")"
   ]
  },
  {
   "cell_type": "code",
   "execution_count": 6,
   "metadata": {
    "id": "5dofDcEiU8Wa"
   },
   "outputs": [],
   "source": [
    "def encode(image_name, secret_data):\n",
    "    # read the image\n",
    "    image = cv2.imread(image_name)\n",
    "    # assert validates code conditions and assumptions\n",
    "    assert not isinstance(image,type(None)), 'image not found'\n",
    "    # maximum bytes to encode\n",
    "    n_bytes = image.shape[0] * image.shape[1] * 3 // 8\n",
    "    print(\"[*] Maximum bytes to encode:\", n_bytes)\n",
    "    if len(secret_data) > n_bytes:\n",
    "        raise ValueError(\"[!] Insufficient bytes, need bigger image or less data.\")\n",
    "    print(\"[*] Encoding data...\")\n",
    "    # add stopping criteria\n",
    "    secret_data += \"=====\"\n",
    "    data_index = 0\n",
    "    # convert data to binary\n",
    "    binary_secret_data = to_bin(secret_data)\n",
    "    # size of data to hide\n",
    "    data_len = len(binary_secret_data)\n",
    "    for row in image:\n",
    "        for pixel in row:\n",
    "            # convert RGB values to binary format\n",
    "            r, g, b = to_bin(pixel)\n",
    "            # modify the least significant bit only if there is still data to store\n",
    "            if data_index < data_len:\n",
    "                # least significant red pixel bit\n",
    "                pixel[0] = int(r[:-1] + binary_secret_data[data_index], 2)\n",
    "                data_index += 1\n",
    "            if data_index < data_len:\n",
    "                # least significant green pixel bit\n",
    "                pixel[1] = int(g[:-1] + binary_secret_data[data_index], 2)\n",
    "                data_index += 1\n",
    "            if data_index < data_len:\n",
    "                # least significant blue pixel bit\n",
    "                pixel[2] = int(b[:-1] + binary_secret_data[data_index], 2)\n",
    "                data_index += 1\n",
    "            # if data is encoded, just break out of the loop\n",
    "            if data_index >= data_len:\n",
    "                break\n",
    "    return image"
   ]
  },
  {
   "cell_type": "code",
   "execution_count": 7,
   "metadata": {
    "id": "DTIluGr7VU0h"
   },
   "outputs": [],
   "source": [
    "def decode(image_name):\n",
    "    print(\"[+] Decoding...\")\n",
    "    # read the image\n",
    "    image = cv2.imread(image_name)\n",
    "    binary_data = \"\"\n",
    "    for row in image:\n",
    "        for pixel in row:\n",
    "            r, g, b = to_bin(pixel)\n",
    "            binary_data += r[-1]\n",
    "            binary_data += g[-1]\n",
    "            binary_data += b[-1]\n",
    "    # split by 8-bits\n",
    "    all_bytes = [ binary_data[i: i+8] for i in range(0, len(binary_data), 8) ]\n",
    "    # convert from bits to characters\n",
    "    decoded_data = \"\"\n",
    "    for byte in all_bytes:\n",
    "        decoded_data += chr(int(byte, 2))\n",
    "        if decoded_data[-5:] == \"=====\":\n",
    "            break\n",
    "    return decoded_data[:-5]"
   ]
  },
  {
   "cell_type": "code",
   "execution_count": 10,
   "metadata": {
    "colab": {
     "base_uri": "https://localhost:8080/"
    },
    "id": "XB7q212RVX4H",
    "outputId": "0c6416a2-deec-46b6-af3c-a2bb8f421dff"
   },
   "outputs": [
    {
     "name": "stdout",
     "output_type": "stream",
     "text": [
      "[*] Maximum bytes to encode: 25312\n",
      "[*] Encoding data...\n",
      "[+] Decoding...\n",
      "[+] Decoded data: This is the @3453352secret message\n"
     ]
    }
   ],
   "source": [
    "if __name__ == \"__main__\":\n",
    "    input_image = \"img2.jpg\"\n",
    "    output_image = \"encode d_image.png\"\n",
    "    secret_data = \"This is the @3453352secret message\"\n",
    "    # encode the data into the image\n",
    "    encoded_image = encode(image_name=input_image, secret_data=secret_data)\n",
    "    # save the output image (encoded image)\n",
    "    cv2.imwrite(output_image, encoded_image)\n",
    "    # decode the secret data from the image\n",
    "    decoded_data = decode(output_image)\n",
    "    print(\"[+] Decoded data:\", decoded_data)"
   ]
  }
 ],
 "metadata": {
  "colab": {
   "provenance": []
  },
  "kernelspec": {
   "display_name": "Python 3 (ipykernel)",
   "language": "python",
   "name": "python3"
  },
  "language_info": {
   "codemirror_mode": {
    "name": "ipython",
    "version": 3
   },
   "file_extension": ".py",
   "mimetype": "text/x-python",
   "name": "python",
   "nbconvert_exporter": "python",
   "pygments_lexer": "ipython3",
   "version": "3.12.0"
  }
 },
 "nbformat": 4,
 "nbformat_minor": 4
}
